{
  "cells": [
    {
      "cell_type": "markdown",
      "metadata": {
        "id": "view-in-github",
        "colab_type": "text"
      },
      "source": [
        "<a href=\"https://colab.research.google.com/github/preethamak/MakeMore/blob/main/MakeMore2.ipynb\" target=\"_parent\"><img src=\"https://colab.research.google.com/assets/colab-badge.svg\" alt=\"Open In Colab\"/></a>"
      ]
    },
    {
      "cell_type": "code",
      "execution_count": null,
      "metadata": {
        "colab": {
          "base_uri": "https://localhost:8080/"
        },
        "id": "_U6Tj0zMxESS",
        "outputId": "cfe760e2-0e8c-42a5-a47a-59ea7cd97b0f"
      },
      "outputs": [
        {
          "output_type": "stream",
          "name": "stdout",
          "text": [
            "--2025-07-07 13:38:44--  https://raw.githubusercontent.com/karpathy/makemore/master/names.txt\n",
            "Resolving raw.githubusercontent.com (raw.githubusercontent.com)... 185.199.108.133, 185.199.110.133, 185.199.109.133, ...\n",
            "Connecting to raw.githubusercontent.com (raw.githubusercontent.com)|185.199.108.133|:443... connected.\n",
            "HTTP request sent, awaiting response... 200 OK\n",
            "Length: 228145 (223K) [text/plain]\n",
            "Saving to: ‘names.txt.1’\n",
            "\n",
            "\rnames.txt.1           0%[                    ]       0  --.-KB/s               \rnames.txt.1         100%[===================>] 222.80K  --.-KB/s    in 0.04s   \n",
            "\n",
            "2025-07-07 13:38:44 (6.14 MB/s) - ‘names.txt.1’ saved [228145/228145]\n",
            "\n"
          ]
        }
      ],
      "source": [
        "!wget https://raw.githubusercontent.com/karpathy/makemore/master/names.txt"
      ]
    },
    {
      "cell_type": "code",
      "execution_count": null,
      "metadata": {
        "id": "KcNtGpLwxe50"
      },
      "outputs": [],
      "source": [
        "import torch\n",
        "import torch.nn.functional as F\n",
        "import matplotlib.pyplot as plt # for making figures\n",
        "%matplotlib inline"
      ]
    },
    {
      "cell_type": "code",
      "execution_count": null,
      "metadata": {
        "colab": {
          "base_uri": "https://localhost:8080/"
        },
        "id": "OPjSGDA4xjJw",
        "outputId": "7a3818a4-3aab-4dd8-e265-00db3e73688c"
      },
      "outputs": [
        {
          "output_type": "execute_result",
          "data": {
            "text/plain": [
              "['emma', 'olivia', 'ava', 'isabella', 'sophia', 'charlotte', 'mia', 'amelia']"
            ]
          },
          "metadata": {},
          "execution_count": 89
        }
      ],
      "source": [
        "# read in all the words\n",
        "words = open('names.txt', 'r').read().splitlines()\n",
        "words[:8]"
      ]
    },
    {
      "cell_type": "code",
      "execution_count": null,
      "metadata": {
        "colab": {
          "base_uri": "https://localhost:8080/"
        },
        "id": "R4VYyWCcxqPL",
        "outputId": "a3c6657c-1c2f-40da-add8-7d6ec74c3e20"
      },
      "outputs": [
        {
          "output_type": "execute_result",
          "data": {
            "text/plain": [
              "32033"
            ]
          },
          "metadata": {},
          "execution_count": 90
        }
      ],
      "source": [
        "len(words)"
      ]
    },
    {
      "cell_type": "code",
      "execution_count": null,
      "metadata": {
        "colab": {
          "base_uri": "https://localhost:8080/"
        },
        "id": "e_XO0Tk6xuqa",
        "outputId": "e022373f-1ba4-4291-ab9f-df5278b52d01"
      },
      "outputs": [
        {
          "output_type": "stream",
          "name": "stdout",
          "text": [
            "{1: 'a', 2: 'b', 3: 'c', 4: 'd', 5: 'e', 6: 'f', 7: 'g', 8: 'h', 9: 'i', 10: 'j', 11: 'k', 12: 'l', 13: 'm', 14: 'n', 15: 'o', 16: 'p', 17: 'q', 18: 'r', 19: 's', 20: 't', 21: 'u', 22: 'v', 23: 'w', 24: 'x', 25: 'y', 26: 'z', 0: '.'}\n",
            "{'a': 1, 'b': 2, 'c': 3, 'd': 4, 'e': 5, 'f': 6, 'g': 7, 'h': 8, 'i': 9, 'j': 10, 'k': 11, 'l': 12, 'm': 13, 'n': 14, 'o': 15, 'p': 16, 'q': 17, 'r': 18, 's': 19, 't': 20, 'u': 21, 'v': 22, 'w': 23, 'x': 24, 'y': 25, 'z': 26, '.': 0}\n"
          ]
        }
      ],
      "source": [
        "# build the vocabulary of characters and mappings to/from integers\n",
        "chars = sorted(list(set(''.join(words))))\n",
        "stoi = {s:i+1 for i,s in enumerate(chars)}\n",
        "stoi['.'] = 0\n",
        "itos = {i:s for s,i in stoi.items()}\n",
        "print(itos)\n",
        "print(stoi)"
      ]
    },
    {
      "cell_type": "code",
      "execution_count": null,
      "metadata": {
        "colab": {
          "base_uri": "https://localhost:8080/"
        },
        "id": "KxfWrVaFy85O",
        "outputId": "805ac161-b6d8-4efe-c999-f7ee0bbda331"
      },
      "outputs": [
        {
          "output_type": "stream",
          "name": "stdout",
          "text": [
            "emma\n",
            "... ---> e\n",
            "..e ---> m\n",
            ".em ---> m\n",
            "emm ---> a\n",
            "mma ---> .\n",
            "olivia\n",
            "... ---> o\n",
            "..o ---> l\n",
            ".ol ---> i\n",
            "oli ---> v\n",
            "liv ---> i\n",
            "ivi ---> a\n",
            "via ---> .\n",
            "ava\n",
            "... ---> a\n",
            "..a ---> v\n",
            ".av ---> a\n",
            "ava ---> .\n",
            "isabella\n",
            "... ---> i\n",
            "..i ---> s\n",
            ".is ---> a\n",
            "isa ---> b\n",
            "sab ---> e\n",
            "abe ---> l\n",
            "bel ---> l\n",
            "ell ---> a\n",
            "lla ---> .\n",
            "sophia\n",
            "... ---> s\n",
            "..s ---> o\n",
            ".so ---> p\n",
            "sop ---> h\n",
            "oph ---> i\n",
            "phi ---> a\n",
            "hia ---> .\n"
          ]
        }
      ],
      "source": [
        "# build the dataset\n",
        "\n",
        "block_size = 3 # context length: how many characters do we take to predict the next one?\n",
        "X, Y = [], []\n",
        "for w in words[:5]:\n",
        "\n",
        "  print(w)\n",
        "  context = [0] * block_size\n",
        "  for ch in w + '.':\n",
        "    ix = stoi[ch]\n",
        "    X.append(context)\n",
        "    Y.append(ix)\n",
        "    print(''.join(itos[i] for i in context), '--->', itos[ix])\n",
        "    context = context[1:] + [ix] # crop and append\n",
        "\n",
        "X = torch.tensor(X)   #the input, 3 values [32 , 3] : 32 --> example of 3 names taken, and 3 is the block size taken\n",
        "Y = torch.tensor(Y)  #the output of the prediction, 1 value [32] --> the prediction of each example, output [32] single charcters."
      ]
    },
    {
      "cell_type": "code",
      "execution_count": null,
      "metadata": {
        "colab": {
          "base_uri": "https://localhost:8080/"
        },
        "id": "k5BSNDaOzJkt",
        "outputId": "e86e5b6d-376f-43be-ebd0-9c6ddecfd441"
      },
      "outputs": [
        {
          "output_type": "execute_result",
          "data": {
            "text/plain": [
              "(torch.Size([32, 3]), torch.int64, torch.Size([32]), torch.int64)"
            ]
          },
          "metadata": {},
          "execution_count": 93
        }
      ],
      "source": [
        "X.shape, X.dtype, Y.shape, Y.dtype"
      ]
    },
    {
      "cell_type": "code",
      "execution_count": null,
      "metadata": {
        "colab": {
          "base_uri": "https://localhost:8080/"
        },
        "id": "BFLzCCRxzK-v",
        "outputId": "5f43a77f-a84e-44f7-e2e5-5e7c02f7783f"
      },
      "outputs": [
        {
          "output_type": "execute_result",
          "data": {
            "text/plain": [
              "torch.Size([32])"
            ]
          },
          "metadata": {},
          "execution_count": 94
        }
      ],
      "source": [
        "Y.shape"
      ]
    },
    {
      "cell_type": "code",
      "execution_count": null,
      "metadata": {
        "colab": {
          "base_uri": "https://localhost:8080/"
        },
        "id": "oW5bJczdzTII",
        "outputId": "06453024-5e73-48a8-d0de-31fef514771a"
      },
      "outputs": [
        {
          "output_type": "execute_result",
          "data": {
            "text/plain": [
              "tensor([[ 0,  0,  0],\n",
              "        [ 0,  0,  5],\n",
              "        [ 0,  5, 13],\n",
              "        [ 5, 13, 13],\n",
              "        [13, 13,  1],\n",
              "        [ 0,  0,  0],\n",
              "        [ 0,  0, 15],\n",
              "        [ 0, 15, 12],\n",
              "        [15, 12,  9],\n",
              "        [12,  9, 22],\n",
              "        [ 9, 22,  9],\n",
              "        [22,  9,  1],\n",
              "        [ 0,  0,  0],\n",
              "        [ 0,  0,  1],\n",
              "        [ 0,  1, 22],\n",
              "        [ 1, 22,  1],\n",
              "        [ 0,  0,  0],\n",
              "        [ 0,  0,  9],\n",
              "        [ 0,  9, 19],\n",
              "        [ 9, 19,  1],\n",
              "        [19,  1,  2],\n",
              "        [ 1,  2,  5],\n",
              "        [ 2,  5, 12],\n",
              "        [ 5, 12, 12],\n",
              "        [12, 12,  1],\n",
              "        [ 0,  0,  0],\n",
              "        [ 0,  0, 19],\n",
              "        [ 0, 19, 15],\n",
              "        [19, 15, 16],\n",
              "        [15, 16,  8],\n",
              "        [16,  8,  9],\n",
              "        [ 8,  9,  1]])"
            ]
          },
          "metadata": {},
          "execution_count": 95
        }
      ],
      "source": [
        "X"
      ]
    },
    {
      "cell_type": "code",
      "execution_count": null,
      "metadata": {
        "colab": {
          "base_uri": "https://localhost:8080/"
        },
        "id": "UF03g_7jzU-1",
        "outputId": "5a765688-ffb4-42d1-f818-90ca9999d6b6"
      },
      "outputs": [
        {
          "output_type": "execute_result",
          "data": {
            "text/plain": [
              "tensor([ 5, 13, 13,  1,  0, 15, 12,  9, 22,  9,  1,  0,  1, 22,  1,  0,  9, 19,\n",
              "         1,  2,  5, 12, 12,  1,  0, 19, 15, 16,  8,  9,  1,  0])"
            ]
          },
          "metadata": {},
          "execution_count": 96
        }
      ],
      "source": [
        "Y"
      ]
    },
    {
      "cell_type": "code",
      "execution_count": null,
      "metadata": {
        "id": "6mT6UAH5xksT"
      },
      "outputs": [],
      "source": [
        "C = torch.randn((27, 2))    #creating variable c and 27, 2 dimension and setting random values"
      ]
    },
    {
      "cell_type": "code",
      "execution_count": null,
      "metadata": {
        "colab": {
          "base_uri": "https://localhost:8080/"
        },
        "id": "DyFQkxn7xpZ5",
        "outputId": "0e3fe9f9-c6ed-443e-f038-728987c77684"
      },
      "outputs": [
        {
          "output_type": "execute_result",
          "data": {
            "text/plain": [
              "tensor([[ 0.7997,  0.7065],\n",
              "        [ 0.2049,  0.5940],\n",
              "        [-0.4355,  0.1808],\n",
              "        [-1.3589, -1.2608],\n",
              "        [-1.1131,  1.2654],\n",
              "        [ 0.4790, -0.6228],\n",
              "        [ 0.2854,  1.6310],\n",
              "        [-0.1247,  0.7839],\n",
              "        [-0.6762,  0.5859],\n",
              "        [-1.8682,  0.6811],\n",
              "        [ 1.1464, -1.7319],\n",
              "        [-0.2409,  0.7823],\n",
              "        [-1.2781, -0.3793],\n",
              "        [ 1.3092,  0.2014],\n",
              "        [-1.4968, -1.4500],\n",
              "        [ 0.7333,  1.4490],\n",
              "        [ 0.0564,  1.3567],\n",
              "        [ 0.3113, -1.2363],\n",
              "        [ 0.9502,  1.5242],\n",
              "        [-0.0024,  2.1608],\n",
              "        [-0.1771,  0.4765],\n",
              "        [ 0.7351, -1.4462],\n",
              "        [ 1.5138, -0.1530],\n",
              "        [ 0.4980,  0.2558],\n",
              "        [ 0.4334,  0.8630],\n",
              "        [-1.1991,  1.1550],\n",
              "        [-1.1128,  0.2120]])"
            ]
          },
          "metadata": {},
          "execution_count": 98
        }
      ],
      "source": [
        "C"
      ]
    },
    {
      "cell_type": "code",
      "execution_count": null,
      "metadata": {
        "colab": {
          "base_uri": "https://localhost:8080/"
        },
        "id": "TG-kTh0osEtQ",
        "outputId": "159de96e-8154-4963-ec62-39b04eb4b301"
      },
      "outputs": [
        {
          "output_type": "execute_result",
          "data": {
            "text/plain": [
              "tensor([ 0.4790, -0.6228])"
            ]
          },
          "metadata": {},
          "execution_count": 99
        }
      ],
      "source": [
        "F.one_hot(torch.tensor(5), num_classes=27).float() @ C"
      ]
    },
    {
      "cell_type": "code",
      "execution_count": null,
      "metadata": {
        "colab": {
          "base_uri": "https://localhost:8080/"
        },
        "id": "sqAxDeBhsZmL",
        "outputId": "5351ea7a-4aeb-4c50-8590-fabbbe3f3c42"
      },
      "outputs": [
        {
          "output_type": "execute_result",
          "data": {
            "text/plain": [
              "tensor([0, 0, 0, 0, 0, 1, 0, 0, 0, 0, 0, 0, 0, 0, 0, 0, 0, 0, 0, 0, 0, 0, 0, 0,\n",
              "        0, 0, 0])"
            ]
          },
          "metadata": {},
          "execution_count": 100
        }
      ],
      "source": [
        "F.one_hot(torch.tensor(5), num_classes=27)"
      ]
    },
    {
      "cell_type": "code",
      "execution_count": null,
      "metadata": {
        "colab": {
          "base_uri": "https://localhost:8080/"
        },
        "id": "48Jqvp1ttGUS",
        "outputId": "eb032ff2-5ab6-479f-8c12-c6a0dfcd950f"
      },
      "outputs": [
        {
          "output_type": "execute_result",
          "data": {
            "text/plain": [
              "tensor([ 0.4790, -0.6228])"
            ]
          },
          "metadata": {},
          "execution_count": 101
        }
      ],
      "source": [
        "C[5]"
      ]
    },
    {
      "cell_type": "code",
      "execution_count": null,
      "metadata": {
        "colab": {
          "base_uri": "https://localhost:8080/"
        },
        "id": "BWe5lgZwtohH",
        "outputId": "22a9ab6f-74f0-47bc-d17f-3910bcbed271"
      },
      "outputs": [
        {
          "output_type": "execute_result",
          "data": {
            "text/plain": [
              "torch.Size([32, 3, 2])"
            ]
          },
          "metadata": {},
          "execution_count": 102
        }
      ],
      "source": [
        "emb = C[X]\n",
        "emb.shape"
      ]
    },
    {
      "cell_type": "code",
      "execution_count": null,
      "metadata": {
        "id": "Simz30dxLb9U"
      },
      "outputs": [],
      "source": [
        "W1 = torch.randn((6, 100))          #setting layer 1 neural network, 100 neuron\n",
        "b1 = torch.randn(100)               #baising each of them"
      ]
    },
    {
      "cell_type": "code",
      "execution_count": null,
      "metadata": {
        "id": "OTgzphu4Lfum"
      },
      "outputs": [],
      "source": [
        "h = torch.tanh(emb.view(-1, 6) @ W1 + b1)       # is the input*weights + bias   [32, 6]@[6, 100] + [1, 100]"
      ]
    },
    {
      "cell_type": "code",
      "execution_count": null,
      "metadata": {
        "colab": {
          "base_uri": "https://localhost:8080/"
        },
        "id": "lYxSHkJgLvln",
        "outputId": "f9a6beee-3fac-4692-b48d-5f1ab582f64c"
      },
      "outputs": [
        {
          "output_type": "execute_result",
          "data": {
            "text/plain": [
              "torch.Size([32, 100])"
            ]
          },
          "metadata": {},
          "execution_count": 105
        }
      ],
      "source": [
        "h.shape"
      ]
    },
    {
      "cell_type": "code",
      "execution_count": null,
      "metadata": {
        "colab": {
          "base_uri": "https://localhost:8080/"
        },
        "id": "KSeEHOfmMR68",
        "outputId": "6b8760fe-1cca-4907-9ae4-4fe47f9bfe86"
      },
      "outputs": [
        {
          "output_type": "execute_result",
          "data": {
            "text/plain": [
              "tensor([[-0.9288, -0.6677, -0.7760,  ..., -0.4524,  0.6180, -0.7160],\n",
              "        [ 0.2384, -0.8320, -0.9890,  ...,  0.3297, -0.4533, -0.9500],\n",
              "        [ 0.8995, -0.0136,  0.3716,  ..., -0.7071, -0.5494, -0.3308],\n",
              "        ...,\n",
              "        [-0.9998, -0.9987, -0.9998,  ...,  0.7905,  0.9384, -0.9694],\n",
              "        [-0.9999, -0.9991, -0.9997,  ...,  0.9894,  0.9916, -0.5556],\n",
              "        [-0.9946, -0.9996, -0.6625,  ..., -0.5696,  0.9992,  0.8527]])"
            ]
          },
          "metadata": {},
          "execution_count": 106
        }
      ],
      "source": [
        "h"
      ]
    },
    {
      "cell_type": "code",
      "execution_count": null,
      "metadata": {
        "colab": {
          "base_uri": "https://localhost:8080/"
        },
        "id": "-31UnZm2tu2c",
        "outputId": "f9b922f7-7bc8-4e41-9de9-f063e87ce8d9"
      },
      "outputs": [
        {
          "output_type": "execute_result",
          "data": {
            "text/plain": [
              "tensor(1)"
            ]
          },
          "metadata": {},
          "execution_count": 107
        }
      ],
      "source": [
        "X[13,2]"
      ]
    },
    {
      "cell_type": "code",
      "execution_count": null,
      "metadata": {
        "colab": {
          "base_uri": "https://localhost:8080/"
        },
        "id": "6Lf3bbW2uBo1",
        "outputId": "ad2fc988-c149-4418-bfcf-136436d89058"
      },
      "outputs": [
        {
          "output_type": "execute_result",
          "data": {
            "text/plain": [
              "tensor([0.2049, 0.5940])"
            ]
          },
          "metadata": {},
          "execution_count": 108
        }
      ],
      "source": [
        "C[X][13,2]"
      ]
    },
    {
      "cell_type": "code",
      "execution_count": null,
      "metadata": {
        "colab": {
          "base_uri": "https://localhost:8080/"
        },
        "id": "k2aJVngCuJSq",
        "outputId": "83d8e28c-b15a-4fcf-f6f3-62777426ff7c"
      },
      "outputs": [
        {
          "output_type": "execute_result",
          "data": {
            "text/plain": [
              "tensor([0.2049, 0.5940])"
            ]
          },
          "metadata": {},
          "execution_count": 109
        }
      ],
      "source": [
        "C[1]"
      ]
    },
    {
      "cell_type": "code",
      "execution_count": null,
      "metadata": {
        "colab": {
          "base_uri": "https://localhost:8080/"
        },
        "id": "KgIAo-dIJk98",
        "outputId": "218bd8ff-88fc-4b2a-c31a-66f020b13244"
      },
      "outputs": [
        {
          "output_type": "execute_result",
          "data": {
            "text/plain": [
              "tensor([[ 0.7997,  0.7065,  0.7997,  0.7065,  0.7997,  0.7065],\n",
              "        [ 0.7997,  0.7065,  0.7997,  0.7065,  0.4790, -0.6228],\n",
              "        [ 0.7997,  0.7065,  0.4790, -0.6228,  1.3092,  0.2014],\n",
              "        [ 0.4790, -0.6228,  1.3092,  0.2014,  1.3092,  0.2014],\n",
              "        [ 1.3092,  0.2014,  1.3092,  0.2014,  0.2049,  0.5940],\n",
              "        [ 0.7997,  0.7065,  0.7997,  0.7065,  0.7997,  0.7065],\n",
              "        [ 0.7997,  0.7065,  0.7997,  0.7065,  0.7333,  1.4490],\n",
              "        [ 0.7997,  0.7065,  0.7333,  1.4490, -1.2781, -0.3793],\n",
              "        [ 0.7333,  1.4490, -1.2781, -0.3793, -1.8682,  0.6811],\n",
              "        [-1.2781, -0.3793, -1.8682,  0.6811,  1.5138, -0.1530],\n",
              "        [-1.8682,  0.6811,  1.5138, -0.1530, -1.8682,  0.6811],\n",
              "        [ 1.5138, -0.1530, -1.8682,  0.6811,  0.2049,  0.5940],\n",
              "        [ 0.7997,  0.7065,  0.7997,  0.7065,  0.7997,  0.7065],\n",
              "        [ 0.7997,  0.7065,  0.7997,  0.7065,  0.2049,  0.5940],\n",
              "        [ 0.7997,  0.7065,  0.2049,  0.5940,  1.5138, -0.1530],\n",
              "        [ 0.2049,  0.5940,  1.5138, -0.1530,  0.2049,  0.5940],\n",
              "        [ 0.7997,  0.7065,  0.7997,  0.7065,  0.7997,  0.7065],\n",
              "        [ 0.7997,  0.7065,  0.7997,  0.7065, -1.8682,  0.6811],\n",
              "        [ 0.7997,  0.7065, -1.8682,  0.6811, -0.0024,  2.1608],\n",
              "        [-1.8682,  0.6811, -0.0024,  2.1608,  0.2049,  0.5940],\n",
              "        [-0.0024,  2.1608,  0.2049,  0.5940, -0.4355,  0.1808],\n",
              "        [ 0.2049,  0.5940, -0.4355,  0.1808,  0.4790, -0.6228],\n",
              "        [-0.4355,  0.1808,  0.4790, -0.6228, -1.2781, -0.3793],\n",
              "        [ 0.4790, -0.6228, -1.2781, -0.3793, -1.2781, -0.3793],\n",
              "        [-1.2781, -0.3793, -1.2781, -0.3793,  0.2049,  0.5940],\n",
              "        [ 0.7997,  0.7065,  0.7997,  0.7065,  0.7997,  0.7065],\n",
              "        [ 0.7997,  0.7065,  0.7997,  0.7065, -0.0024,  2.1608],\n",
              "        [ 0.7997,  0.7065, -0.0024,  2.1608,  0.7333,  1.4490],\n",
              "        [-0.0024,  2.1608,  0.7333,  1.4490,  0.0564,  1.3567],\n",
              "        [ 0.7333,  1.4490,  0.0564,  1.3567, -0.6762,  0.5859],\n",
              "        [ 0.0564,  1.3567, -0.6762,  0.5859, -1.8682,  0.6811],\n",
              "        [-0.6762,  0.5859, -1.8682,  0.6811,  0.2049,  0.5940]])"
            ]
          },
          "metadata": {},
          "execution_count": 110
        }
      ],
      "source": [
        "emb.view(32, 6)"
      ]
    },
    {
      "cell_type": "code",
      "execution_count": null,
      "metadata": {
        "id": "SihP1NOYMwPG"
      },
      "outputs": [],
      "source": [
        "W2 = torch.randn(100, 27)          #setting the 2nd layer neural network, taking 100 input from 1st layer and should give output b/w 27 charcters.\n",
        "b2 = torch.randn(27)               #there are 27 neural network, so setting bais for them.. weights and bais are set randomly using torch.randn() function"
      ]
    },
    {
      "cell_type": "code",
      "execution_count": null,
      "metadata": {
        "id": "EKb9IQJTM3kF"
      },
      "outputs": [],
      "source": [
        "logits = h @ W2 + b2                 # h is the x[i]*w[i]+b of layer 1. [32, 100] @ [100, 27] + [1, 27] = [32, 27]"
      ]
    },
    {
      "cell_type": "code",
      "execution_count": null,
      "metadata": {
        "colab": {
          "base_uri": "https://localhost:8080/"
        },
        "id": "rK61XZ9rOk6n",
        "outputId": "e0bf91c0-ad0f-4527-a6b3-40851039415d"
      },
      "outputs": [
        {
          "output_type": "execute_result",
          "data": {
            "text/plain": [
              "torch.Size([32, 27])"
            ]
          },
          "metadata": {},
          "execution_count": 113
        }
      ],
      "source": [
        "logits.shape"
      ]
    },
    {
      "cell_type": "code",
      "execution_count": null,
      "metadata": {
        "colab": {
          "base_uri": "https://localhost:8080/"
        },
        "id": "L1hmdvLcOqNp",
        "outputId": "452378f9-7869-4620-914b-0e6a3eff255b"
      },
      "outputs": [
        {
          "output_type": "execute_result",
          "data": {
            "text/plain": [
              "torch.Size([32, 100])"
            ]
          },
          "metadata": {},
          "execution_count": 114
        }
      ],
      "source": [
        "h.shape"
      ]
    },
    {
      "cell_type": "code",
      "execution_count": null,
      "metadata": {
        "colab": {
          "base_uri": "https://localhost:8080/"
        },
        "id": "od5Rhkt2NLX1",
        "outputId": "9f4106ba-c312-4f81-9f3a-0dc202e1ec9b"
      },
      "outputs": [
        {
          "output_type": "execute_result",
          "data": {
            "text/plain": [
              "tensor([[ 6.1397e+00,  1.2644e+01, -7.9557e+00,  1.6835e+01, -3.6799e-02,\n",
              "          8.4989e+00, -1.4966e+01, -5.9538e+00,  5.7842e+00,  2.4552e-01,\n",
              "          5.4817e+00, -1.1043e+01,  9.5827e+00,  1.6604e+01,  7.2460e+00,\n",
              "          8.3849e+00, -8.5896e+00, -1.1430e+01, -3.5162e+00,  1.4741e+01,\n",
              "         -1.9019e+00,  1.3202e-01,  1.3487e+01, -5.1241e+00,  1.3946e+00,\n",
              "         -3.1337e+00,  2.0675e+01],\n",
              "        [ 9.2522e+00,  1.5629e+00, -9.3440e+00,  1.9092e+00, -2.0568e-01,\n",
              "          9.4458e+00, -1.8840e+01,  7.5385e+00,  4.8219e+00, -1.9839e+00,\n",
              "          9.1636e+00, -1.1668e+01, -1.8993e+00,  8.1849e+00,  2.0088e+00,\n",
              "          9.6135e+00,  5.7441e+00, -1.1077e+01,  2.6433e+00,  9.5886e+00,\n",
              "          2.9152e+00, -1.5790e+00,  1.2563e+01, -3.7349e+00,  9.4234e+00,\n",
              "         -4.2989e+00,  1.2117e+01],\n",
              "        [ 5.4752e+00,  1.4602e+01, -3.5980e+00,  1.2414e+01, -1.7542e+00,\n",
              "          1.2197e+01, -8.6528e+00, -7.3573e+00,  4.3297e-01, -2.1065e+00,\n",
              "          6.0907e+00, -1.0611e+01,  2.4637e+00,  5.1537e+00, -3.8385e+00,\n",
              "          5.7626e+00, -4.1922e+00, -1.4226e+01, -9.1317e+00,  9.9238e+00,\n",
              "         -5.4781e+00, -2.5181e+00,  1.1561e+01,  4.1650e+00,  2.4696e+00,\n",
              "         -4.1331e-01,  1.8301e+01],\n",
              "        [ 4.2227e-01,  8.4902e+00, -3.2808e+00, -2.9644e+00, -3.0957e+00,\n",
              "          4.1626e+00, -1.5500e+01, -5.9973e-01,  1.9466e+00, -4.3055e+00,\n",
              "          8.9836e+00, -5.7235e+00,  3.1318e-01, -2.3527e+00, -1.0803e+01,\n",
              "          1.6230e+00,  2.2527e-01, -6.3891e+00, -4.9200e+00,  1.2572e+01,\n",
              "         -4.8502e+00,  6.0241e+00,  1.1523e+01, -9.6136e+00, -9.1202e+00,\n",
              "          1.2897e+00,  1.5064e+01],\n",
              "        [ 1.1938e+01,  5.6691e+00, -6.7442e+00,  3.3070e-01,  2.0389e+00,\n",
              "          9.9338e+00, -1.3594e+01,  8.8767e-01,  7.8804e+00, -1.2955e+00,\n",
              "          3.5961e-01, -8.3705e+00,  3.3861e+00,  9.8359e+00,  9.0617e+00,\n",
              "          6.5991e+00, -1.0848e+01, -1.2960e+01, -2.1717e+00,  9.1626e+00,\n",
              "         -2.4393e+00, -3.1339e+00,  1.4883e+01, -3.0330e+00,  1.3501e+01,\n",
              "         -1.6795e+00,  1.6076e+01],\n",
              "        [ 6.1397e+00,  1.2644e+01, -7.9557e+00,  1.6835e+01, -3.6799e-02,\n",
              "          8.4989e+00, -1.4966e+01, -5.9538e+00,  5.7842e+00,  2.4552e-01,\n",
              "          5.4817e+00, -1.1043e+01,  9.5827e+00,  1.6604e+01,  7.2460e+00,\n",
              "          8.3849e+00, -8.5896e+00, -1.1430e+01, -3.5162e+00,  1.4741e+01,\n",
              "         -1.9019e+00,  1.3202e-01,  1.3487e+01, -5.1241e+00,  1.3946e+00,\n",
              "         -3.1337e+00,  2.0675e+01],\n",
              "        [ 4.5627e+00,  1.3285e+01, -6.6434e+00,  2.0939e+01, -6.5648e-01,\n",
              "          8.2322e+00, -1.1407e+01, -8.9039e+00,  7.8586e+00, -1.3505e+00,\n",
              "          1.4798e+00, -9.3154e+00,  1.1850e+01,  1.6232e+01,  7.3882e+00,\n",
              "          4.7267e+00, -1.4437e+01, -9.9588e+00, -5.4433e+00,  1.4737e+01,\n",
              "         -7.0003e+00, -8.4745e-01,  1.3752e+01, -3.8232e+00,  3.7008e-01,\n",
              "         -4.8661e+00,  2.3174e+01],\n",
              "        [ 1.5378e+01, -6.8439e+00, -1.4526e+00, -1.2176e+00,  2.9206e+00,\n",
              "          4.2605e+00, -9.8430e+00,  2.1919e+01,  9.1924e+00, -4.6797e+00,\n",
              "         -4.0743e+00,  4.5877e-01, -4.7621e+00,  8.5635e+00,  1.1025e+01,\n",
              "          1.0510e+01,  4.7778e-01, -1.2194e+01, -5.6214e+00,  7.9645e+00,\n",
              "          1.2102e+01, -7.1913e+00,  1.0533e+00,  3.5426e+00,  1.7997e+01,\n",
              "         -5.3107e+00,  3.1467e+00],\n",
              "        [ 1.1509e+01,  1.0632e+00,  1.7155e+01,  1.3874e+01,  4.0035e-01,\n",
              "         -7.3340e+00,  1.4115e+01,  8.8175e-01,  5.7826e+00,  6.0065e-01,\n",
              "         -8.5519e+00, -4.5808e+00, -6.8538e+00,  1.6299e+00,  1.5894e+01,\n",
              "          9.3720e+00, -1.2475e+01, -4.1030e+00, -2.0630e+00, -3.7307e+00,\n",
              "          9.9850e+00, -9.8070e+00, -3.0500e-01,  1.2536e+00,  2.1483e+01,\n",
              "         -1.6605e+00, -1.3646e+00],\n",
              "        [-1.4123e+01,  1.0149e+00,  1.2327e+01,  6.4404e+00, -5.3958e+00,\n",
              "         -3.4813e+00,  5.5911e+00, -5.8880e+00, -2.0584e+00, -2.3152e+00,\n",
              "          1.0494e+01,  7.6955e-01,  1.2548e+00, -6.3245e+00, -1.1201e+01,\n",
              "         -6.8064e+00,  7.0568e+00, -1.7788e+00, -2.4462e+00, -1.7164e-01,\n",
              "         -1.1250e+01, -1.1672e+01, -9.9805e+00, -1.8383e+00, -2.6873e+01,\n",
              "         -6.5006e+00,  5.8190e-01],\n",
              "        [ 1.4713e+00, -5.1784e+00,  1.4738e+00,  1.1821e+01,  8.5694e-01,\n",
              "         -3.9296e+00,  1.2028e+01,  1.2473e+01,  6.7784e+00,  1.6761e+00,\n",
              "         -1.2354e+01, -4.6069e+00, -9.4138e+00, -2.4635e+01,  9.9419e-01,\n",
              "          1.4610e+01,  7.3638e+00,  4.8742e+00, -3.1810e+00,  1.6703e-01,\n",
              "          1.0007e+01, -3.2354e+00,  1.2320e+00, -4.4152e+00,  8.2729e+00,\n",
              "         -1.9073e+00,  3.1680e+00],\n",
              "        [-5.4646e+00,  9.2735e+00,  1.1390e+01,  5.4251e+00, -1.7441e-01,\n",
              "         -5.2090e+00,  4.0336e+00,  5.1111e-01,  2.6648e+00,  4.2238e+00,\n",
              "         -5.3471e+00,  3.7237e+00,  4.1923e+00,  1.5239e+01,  7.0992e-01,\n",
              "          3.5222e+00, -1.5055e+01, -7.9843e+00, -1.1344e+01,  3.5567e+00,\n",
              "         -1.2506e+01, -1.1908e+01, -7.6806e+00,  8.9891e+00, -4.1485e+00,\n",
              "          1.0936e+00,  6.5859e+00],\n",
              "        [ 6.1397e+00,  1.2644e+01, -7.9557e+00,  1.6835e+01, -3.6799e-02,\n",
              "          8.4989e+00, -1.4966e+01, -5.9538e+00,  5.7842e+00,  2.4552e-01,\n",
              "          5.4817e+00, -1.1043e+01,  9.5827e+00,  1.6604e+01,  7.2460e+00,\n",
              "          8.3849e+00, -8.5896e+00, -1.1430e+01, -3.5162e+00,  1.4741e+01,\n",
              "         -1.9019e+00,  1.3202e-01,  1.3487e+01, -5.1241e+00,  1.3946e+00,\n",
              "         -3.1337e+00,  2.0675e+01],\n",
              "        [ 6.8514e+00,  7.9530e+00, -6.7545e+00,  1.6235e+01,  1.0434e+00,\n",
              "          8.0712e+00, -1.0900e+01, -5.5049e-01,  7.9429e+00, -2.4084e+00,\n",
              "          2.7299e+00, -1.2524e+01,  6.4543e+00,  1.3034e+01,  9.1782e+00,\n",
              "          6.4555e+00, -1.1813e+01, -1.1255e+01, -3.1651e+00,  1.4416e+01,\n",
              "         -1.9077e+00, -3.3515e+00,  1.1514e+01, -2.0529e+00,  9.1600e+00,\n",
              "         -2.6565e+00,  1.8908e+01],\n",
              "        [ 5.1370e+00,  9.5120e+00, -5.7552e+00,  3.5171e+00, -7.9198e+00,\n",
              "          6.9911e+00, -1.8241e+01, -1.0235e+00,  4.9154e+00,  2.5021e+00,\n",
              "          7.1196e+00, -1.5567e+01,  7.7948e+00,  1.5085e+01,  3.6218e+00,\n",
              "          7.5885e+00,  1.8043e+00, -1.6738e+01, -4.1085e+00,  1.3182e+01,\n",
              "          4.1513e-01,  2.5601e+00,  1.2530e+01,  1.9243e+00, -3.2968e+00,\n",
              "         -2.6127e+00,  1.7695e+01],\n",
              "        [ 4.6898e+00,  1.0111e+01, -4.2969e+00,  1.6590e+01,  2.0064e+00,\n",
              "          5.1601e+00, -9.9426e+00, -2.3045e+00, -1.2364e+00, -6.1199e+00,\n",
              "          2.8375e+00, -1.1098e+01,  8.4578e-01,  2.1570e+00,  1.8209e+00,\n",
              "          1.0878e+01, -3.7755e+00, -6.9445e+00,  4.8156e+00,  8.8783e+00,\n",
              "         -3.0278e+00,  2.4399e+00,  1.4725e+01, -9.4124e+00,  5.3138e+00,\n",
              "         -6.1300e+00,  1.5017e+01],\n",
              "        [ 6.1397e+00,  1.2644e+01, -7.9557e+00,  1.6835e+01, -3.6799e-02,\n",
              "          8.4989e+00, -1.4966e+01, -5.9538e+00,  5.7842e+00,  2.4552e-01,\n",
              "          5.4817e+00, -1.1043e+01,  9.5827e+00,  1.6604e+01,  7.2460e+00,\n",
              "          8.3849e+00, -8.5896e+00, -1.1430e+01, -3.5162e+00,  1.4741e+01,\n",
              "         -1.9019e+00,  1.3202e-01,  1.3487e+01, -5.1241e+00,  1.3946e+00,\n",
              "         -3.1337e+00,  2.0675e+01],\n",
              "        [ 1.3178e+01, -2.5496e+00,  1.4365e+00,  1.0719e+01,  2.3779e+00,\n",
              "          3.5527e+00,  3.6549e+00,  7.3881e+00,  2.9700e+00, -9.8644e-01,\n",
              "         -6.9046e+00, -6.5307e+00, -6.1387e+00,  5.3996e+00,  1.5629e+01,\n",
              "          6.0371e+00, -9.6790e+00, -7.3329e+00, -5.7810e+00,  7.0928e+00,\n",
              "          6.6339e+00, -2.5174e+00,  5.8814e+00,  2.9271e+00,  1.9975e+01,\n",
              "         -1.8707e+00,  3.5388e+00],\n",
              "        [-4.4117e+00,  1.2549e+01,  8.2513e+00,  1.1277e+01,  1.5774e+00,\n",
              "         -3.3523e+00,  7.6039e+00, -5.4622e+00,  6.8833e+00,  1.1789e+00,\n",
              "         -6.4266e+00,  2.2189e+00,  4.0940e+00,  1.5837e+01, -3.3862e+00,\n",
              "          1.1223e+00, -2.1111e+01, -2.0669e+00, -7.6686e+00,  5.9383e+00,\n",
              "         -7.9958e+00, -7.8610e+00, -2.1544e+00,  1.0012e+01, -6.4006e+00,\n",
              "          4.0640e+00,  5.1275e+00],\n",
              "        [ 6.0915e+00,  6.8675e+00, -2.8848e-01,  1.2423e+01,  5.2097e+00,\n",
              "         -1.0579e+01,  1.3991e+00,  1.6764e+01,  7.9767e+00,  1.8143e+00,\n",
              "         -4.2367e+00, -9.6471e-01,  6.7549e+00,  4.4418e-01, -3.5183e+00,\n",
              "          5.7555e+00,  4.7110e+00, -4.2050e-01, -2.3097e+00,  1.5239e+00,\n",
              "         -4.0276e+00, -5.9299e+00,  2.7541e-01, -4.0233e+00, -1.0666e+01,\n",
              "         -1.2343e+01,  4.3784e+00],\n",
              "        [ 2.5796e+00,  6.4754e+00, -3.8578e+00,  2.9990e+01,  4.3692e+00,\n",
              "          2.2835e+00, -1.5814e+00,  1.3750e+01,  3.5195e+00, -3.2625e+00,\n",
              "         -6.5886e+00, -1.3342e+01, -3.5564e-01,  6.7291e+00,  1.4787e+01,\n",
              "          1.9771e+01, -6.2023e+00, -6.5763e+00, -4.8779e+00,  4.4353e+00,\n",
              "         -3.6584e-01, -2.5973e+00,  2.3481e+00,  6.3596e+00,  1.7224e+01,\n",
              "         -4.8262e+00,  1.1315e+01],\n",
              "        [ 1.9127e+00, -1.2374e+00,  9.6036e-01,  9.1669e+00, -4.6729e+00,\n",
              "          4.8604e+00, -7.4144e+00,  1.2464e+01, -5.7122e-01,  1.3660e+00,\n",
              "          1.3344e+01, -1.2624e+01, -2.2005e+00,  4.4441e+00,  4.3296e+00,\n",
              "          6.6012e+00, -8.8647e-01, -1.1549e+01, -7.5476e+00,  1.7289e+00,\n",
              "         -6.6912e+00, -8.6330e+00, -6.7983e-01,  5.3686e+00, -1.0187e+00,\n",
              "         -6.9600e+00,  9.1081e+00],\n",
              "        [-3.7577e-01, -1.1703e+01,  1.1732e+01,  2.2054e+00,  1.3541e+00,\n",
              "         -2.8943e+00,  1.3942e+01,  5.7361e+00,  3.5162e+00,  9.1830e-01,\n",
              "          1.5849e+00,  1.4919e+00, -1.1683e+01, -1.5389e+01,  4.9824e+00,\n",
              "          9.8765e-01, -5.7847e+00,  8.6385e+00,  2.3559e-02, -1.1964e+00,\n",
              "          3.5800e+00, -3.4996e+00, -5.3786e+00, -4.9018e+00,  2.0636e+01,\n",
              "         -6.5386e+00, -1.8079e+00],\n",
              "        [ 1.7679e+00, -6.6925e+00,  1.7379e+01,  4.7084e+00,  5.1620e+00,\n",
              "         -7.5979e+00,  1.4371e+01,  2.0163e+00, -1.7007e-01, -2.4837e+00,\n",
              "         -5.1722e+00,  2.6847e+00, -8.9082e+00, -5.9463e+00, -1.7702e+00,\n",
              "         -3.4720e+00, -1.6465e+01,  3.0775e+00, -5.3955e+00, -1.1369e+01,\n",
              "          4.3858e+00, -1.2651e+01, -1.4677e+01,  1.3659e+00,  8.6638e+00,\n",
              "          3.2431e-01, -1.4276e+01],\n",
              "        [-7.8684e+00,  4.1104e+00,  1.5936e+01,  1.3941e+01, -3.1817e-01,\n",
              "         -2.8405e+00,  1.1209e+01, -3.4682e+00, -8.0740e+00,  2.8388e+00,\n",
              "          2.1772e+00,  1.0448e+00, -2.5038e+00, -1.8544e+01, -6.2950e+00,\n",
              "         -8.9317e+00, -9.2210e+00,  2.3843e+00, -5.3548e+00, -6.9749e+00,\n",
              "         -1.5289e+01, -7.5455e+00, -1.4434e+01,  1.4258e+00, -9.2361e+00,\n",
              "         -2.6779e+00, -1.9244e+00],\n",
              "        [ 6.1397e+00,  1.2644e+01, -7.9557e+00,  1.6835e+01, -3.6799e-02,\n",
              "          8.4989e+00, -1.4966e+01, -5.9538e+00,  5.7842e+00,  2.4552e-01,\n",
              "          5.4817e+00, -1.1043e+01,  9.5827e+00,  1.6604e+01,  7.2460e+00,\n",
              "          8.3849e+00, -8.5896e+00, -1.1430e+01, -3.5162e+00,  1.4741e+01,\n",
              "         -1.9019e+00,  1.3202e-01,  1.3487e+01, -5.1241e+00,  1.3946e+00,\n",
              "         -3.1337e+00,  2.0675e+01],\n",
              "        [ 4.9217e+00,  1.2129e+01, -7.3673e+00,  2.1265e+01, -1.2068e-01,\n",
              "          5.4822e+00, -4.0641e+00, -4.9784e+00,  1.0803e+01, -2.3413e+00,\n",
              "         -5.8694e+00, -8.0887e+00,  9.4186e+00,  8.6584e+00,  5.8626e+00,\n",
              "          4.4888e+00, -1.8682e+01, -6.6700e+00, -4.4675e+00,  1.2892e+01,\n",
              "         -6.8497e+00, -1.5371e+00,  1.1308e+01, -8.6149e-02,  6.8830e+00,\n",
              "         -5.1236e+00,  2.2411e+01],\n",
              "        [-3.2685e+00,  9.4645e+00, -7.4723e+00,  1.3572e+01,  6.4044e-02,\n",
              "         -8.9085e-01, -1.2361e+01,  2.5991e+00,  4.9425e+00,  5.1670e+00,\n",
              "          3.1562e+00, -3.5265e+00,  1.2764e+01,  2.2801e+01,  3.5531e+00,\n",
              "          9.0765e+00, -8.6658e+00, -1.1290e+01, -7.5372e+00,  1.5931e+01,\n",
              "         -3.8868e-01, -6.1885e+00,  6.5288e+00, -1.5339e+00, -6.6459e+00,\n",
              "         -4.8495e+00,  1.9073e+01],\n",
              "        [-1.3665e+00,  1.0778e+01, -6.6640e+00,  3.0187e+01,  1.7521e+00,\n",
              "          1.7210e-01, -9.3431e-01,  5.3140e+00,  1.3503e+00, -5.5345e+00,\n",
              "         -5.1033e+00, -1.4877e+01,  7.0470e+00,  1.1977e+01,  1.0490e+01,\n",
              "          1.7288e+01, -6.4413e+00, -7.1021e+00, -1.0263e+01,  1.7372e+01,\n",
              "         -1.8244e+00, -2.3466e+00,  1.2184e+01,  1.2442e+00,  4.3514e+00,\n",
              "         -3.5037e+00,  1.6630e+01],\n",
              "        [ 5.8566e+00,  5.0579e+00, -1.1005e-01,  1.5962e+01,  2.8451e+00,\n",
              "          9.1875e-01,  1.4079e+00,  1.2598e+01,  2.6034e+00, -4.8748e+00,\n",
              "         -9.6627e-01, -9.5270e+00, -8.9071e-01,  1.6614e+01,  1.4646e+01,\n",
              "          1.3185e+01, -1.0541e+01, -1.3688e+01, -3.5112e+00,  8.4340e+00,\n",
              "          2.6255e+00, -7.1883e+00,  3.9711e+00,  8.4514e+00,  1.1779e+01,\n",
              "         -3.0864e+00,  8.7526e+00],\n",
              "        [ 9.4919e+00, -5.2430e+00,  7.4255e+00,  1.0655e+01, -4.4413e-01,\n",
              "         -6.2961e+00,  8.1416e+00,  9.1137e+00,  1.1816e+01, -1.4905e+00,\n",
              "         -1.1856e+01, -4.9627e+00, -6.6178e+00,  8.4721e-01,  1.5401e+01,\n",
              "          1.2615e+01, -1.4282e+01, -4.5443e+00, -2.2195e+00, -2.3087e+00,\n",
              "          8.6029e+00, -9.5314e+00,  9.7891e-01,  1.7201e+00,  1.2416e+01,\n",
              "         -6.8460e+00, -1.6495e+00],\n",
              "        [-3.5286e+00,  3.4038e+00,  1.1636e+01,  1.5096e+01,  8.0298e-01,\n",
              "         -3.2979e+00,  6.3208e+00,  1.0461e+01,  4.7988e+00,  2.7506e+00,\n",
              "          5.8844e+00, -3.4170e+00,  5.4860e+00,  5.9182e+00, -3.6386e+00,\n",
              "          1.0782e+00, -4.3842e+00, -3.0713e+00, -3.9583e+00, -6.0230e+00,\n",
              "         -7.8108e+00, -1.1197e+01, -7.9405e+00,  2.5822e+00, -9.2926e+00,\n",
              "         -5.1359e-01, -6.0344e+00]])"
            ]
          },
          "metadata": {},
          "execution_count": 115
        }
      ],
      "source": [
        "logits"
      ]
    },
    {
      "cell_type": "code",
      "execution_count": null,
      "metadata": {
        "id": "Unc9Wpg5NqTC"
      },
      "outputs": [],
      "source": [
        "counts = logits.exp()          #set variable count that is the exponential value of logits, as logits contains negative value also"
      ]
    },
    {
      "cell_type": "code",
      "execution_count": null,
      "metadata": {
        "colab": {
          "base_uri": "https://localhost:8080/"
        },
        "id": "EX3BVbRUNwli",
        "outputId": "2fb33d0c-1cf1-4d51-f2a7-5c12f3bb0c89"
      },
      "outputs": [
        {
          "output_type": "execute_result",
          "data": {
            "text/plain": [
              "tensor([[4.6391e+02, 3.0993e+05, 3.5067e-04, 2.0480e+07, 9.6387e-01, 4.9094e+03,\n",
              "         3.1639e-07, 2.5961e-03, 3.2512e+02, 1.2783e+00, 2.4025e+02, 1.5993e-05,\n",
              "         1.4511e+04, 1.6250e+07, 1.4025e+03, 4.3804e+03, 1.8602e-04, 1.0867e-05,\n",
              "         2.9713e-02, 2.5237e+06, 1.4929e-01, 1.1411e+00, 7.1966e+05, 5.9514e-03,\n",
              "         4.0333e+00, 4.3557e-02, 9.5251e+08],\n",
              "        [1.0428e+04, 4.7728e+00, 8.7488e-05, 6.7474e+00, 8.1410e-01, 1.2655e+04,\n",
              "         6.5757e-09, 1.8790e+03, 1.2420e+02, 1.3753e-01, 9.5436e+03, 8.5621e-06,\n",
              "         1.4968e-01, 3.5862e+03, 7.4540e+00, 1.4965e+04, 3.1233e+02, 1.5465e-05,\n",
              "         1.4059e+01, 1.4597e+04, 1.8453e+01, 2.0618e-01, 2.8566e+05, 2.3876e-02,\n",
              "         1.2375e+04, 1.3583e-02, 1.8289e+05],\n",
              "        [2.3871e+02, 2.1947e+06, 2.7379e-02, 2.4613e+05, 1.7305e-01, 1.9817e+05,\n",
              "         1.7464e-04, 6.3790e-04, 1.5418e+00, 1.2166e-01, 4.4175e+02, 2.4645e-05,\n",
              "         1.1748e+01, 1.7306e+02, 2.1527e-02, 3.1818e+02, 1.5113e-02, 6.6316e-07,\n",
              "         1.0819e-04, 2.0411e+04, 4.1774e-03, 8.0610e-02, 1.0496e+05, 6.4391e+01,\n",
              "         1.1818e+01, 6.6146e-01, 8.8702e+07],\n",
              "        [1.5254e+00, 4.8668e+03, 3.7598e-02, 5.1592e-02, 4.5241e-02, 6.4238e+01,\n",
              "         1.8550e-07, 5.4896e-01, 7.0050e+00, 1.3494e-02, 7.9713e+03, 3.2682e-03,\n",
              "         1.3678e+00, 9.5108e-02, 2.0347e-05, 5.0684e+00, 1.2527e+00, 1.6798e-03,\n",
              "         7.2993e-03, 2.8827e+05, 7.8270e-03, 4.1329e+02, 1.0105e+05, 6.6816e-05,\n",
              "         1.0943e-04, 3.6316e+00, 3.4854e+06],\n",
              "        [1.5295e+05, 2.8977e+02, 1.1777e-03, 1.3919e+00, 7.6819e+00, 2.0615e+04,\n",
              "         1.2484e-06, 2.4295e+00, 2.6450e+03, 2.7376e-01, 1.4328e+00, 2.3160e-04,\n",
              "         2.9549e+01, 1.8693e+04, 8.6189e+03, 7.3444e+02, 1.9439e-05, 2.3524e-06,\n",
              "         1.1398e-01, 9.5337e+03, 8.7225e-02, 4.3549e-02, 2.9086e+06, 4.8169e-02,\n",
              "         7.2992e+05, 1.8647e-01, 9.5832e+06],\n",
              "        [4.6391e+02, 3.0993e+05, 3.5067e-04, 2.0480e+07, 9.6387e-01, 4.9094e+03,\n",
              "         3.1639e-07, 2.5961e-03, 3.2512e+02, 1.2783e+00, 2.4025e+02, 1.5993e-05,\n",
              "         1.4511e+04, 1.6250e+07, 1.4025e+03, 4.3804e+03, 1.8602e-04, 1.0867e-05,\n",
              "         2.9713e-02, 2.5237e+06, 1.4929e-01, 1.1411e+00, 7.1966e+05, 5.9514e-03,\n",
              "         4.0333e+00, 4.3557e-02, 9.5251e+08],\n",
              "        [9.5846e+01, 5.8815e+05, 1.3026e-03, 1.2412e+09, 5.1868e-01, 3.7603e+03,\n",
              "         1.1114e-05, 1.3585e-04, 2.5880e+03, 2.5912e-01, 4.3920e+00, 9.0024e-05,\n",
              "         1.4006e+05, 1.1204e+07, 1.6168e+03, 1.1293e+02, 5.3724e-07, 4.7311e-05,\n",
              "         4.3252e-03, 2.5142e+06, 9.1165e-04, 4.2851e-01, 9.3879e+05, 2.1858e-02,\n",
              "         1.4478e+00, 7.7031e-03, 1.1602e+10],\n",
              "        [4.7694e+06, 1.0660e-03, 2.3395e-01, 2.9595e-01, 1.8552e+01, 7.0845e+01,\n",
              "         5.3117e-05, 3.3049e+09, 9.8220e+03, 9.2815e-03, 1.7004e-02, 1.5821e+00,\n",
              "         8.5474e-03, 5.2372e+03, 6.1388e+04, 3.6680e+04, 1.6125e+00, 5.0595e-06,\n",
              "         3.6197e-03, 2.8769e+03, 1.8032e+05, 7.5313e-04, 2.8671e+00, 3.4557e+01,\n",
              "         6.5485e+07, 4.9384e-03, 2.3259e+01],\n",
              "        [9.9655e+04, 2.8955e+00, 2.8206e+07, 1.0603e+06, 1.4923e+00, 6.5294e-04,\n",
              "         1.3491e+06, 2.4151e+00, 3.2462e+02, 1.8233e+00, 1.9318e-04, 1.0247e-02,\n",
              "         1.0554e-03, 5.1033e+00, 7.9936e+06, 1.1755e+04, 3.8218e-06, 1.6522e-02,\n",
              "         1.2707e-01, 2.3975e-02, 2.1700e+04, 5.5066e-05, 7.3712e-01, 3.5028e+00,\n",
              "         2.1382e+09, 1.9004e-01, 2.5547e-01],\n",
              "        [7.3496e-07, 2.7590e+00, 2.2573e+05, 6.2668e+02, 4.5355e-03, 3.0767e-02,\n",
              "         2.6804e+02, 2.7725e-03, 1.2766e-01, 9.8744e-02, 3.6107e+04, 2.1588e+00,\n",
              "         3.5072e+00, 1.7919e-03, 1.3658e-05, 1.1066e-03, 1.1607e+03, 1.6884e-01,\n",
              "         8.6625e-02, 8.4228e-01, 1.3003e-05, 8.5276e-06, 4.6296e-05, 1.5908e-01,\n",
              "         2.1336e-12, 1.5025e-03, 1.7894e+00],\n",
              "        [4.3549e+00, 5.6369e-03, 4.3656e+00, 1.3611e+05, 2.3559e+00, 1.9651e-02,\n",
              "         1.6737e+05, 2.6115e+05, 8.7864e+02, 5.3446e+00, 4.3111e-06, 9.9825e-03,\n",
              "         8.1588e-05, 1.9996e-11, 2.7025e+00, 2.2127e+06, 1.5779e+03, 1.3087e+02,\n",
              "         4.1543e-02, 1.1818e+00, 2.2170e+04, 3.9345e-02, 3.4281e+00, 1.2092e-02,\n",
              "         3.9161e+03, 1.4847e-01, 2.3761e+01],\n",
              "        [4.2339e-03, 1.0652e+04, 8.8404e+04, 2.2704e+02, 8.3995e-01, 5.4669e-03,\n",
              "         5.6464e+01, 1.6671e+00, 1.4365e+01, 6.8289e+01, 4.7621e-03, 4.1417e+01,\n",
              "         6.6173e+01, 4.1520e+06, 2.0338e+00, 3.3859e+01, 2.8966e-07, 3.4077e-04,\n",
              "         1.1841e-05, 3.5047e+01, 3.7046e-06, 6.7357e-06, 4.6171e-04, 8.0152e+03,\n",
              "         1.5789e-02, 2.9851e+00, 7.2479e+02],\n",
              "        [4.6391e+02, 3.0993e+05, 3.5067e-04, 2.0480e+07, 9.6387e-01, 4.9094e+03,\n",
              "         3.1639e-07, 2.5961e-03, 3.2512e+02, 1.2783e+00, 2.4025e+02, 1.5993e-05,\n",
              "         1.4511e+04, 1.6250e+07, 1.4025e+03, 4.3804e+03, 1.8602e-04, 1.0867e-05,\n",
              "         2.9713e-02, 2.5237e+06, 1.4929e-01, 1.1411e+00, 7.1966e+05, 5.9514e-03,\n",
              "         4.0333e+00, 4.3557e-02, 9.5251e+08],\n",
              "        [9.4519e+02, 2.8442e+03, 1.1656e-03, 1.1246e+07, 2.8389e+00, 3.2009e+03,\n",
              "         1.8458e-05, 5.7667e-01, 2.8154e+03, 8.9956e-02, 1.5332e+01, 3.6395e-06,\n",
              "         6.3542e+02, 4.5792e+05, 9.6837e+03, 6.3617e+02, 7.4078e-06, 1.2948e-05,\n",
              "         4.2209e-02, 1.8238e+06, 1.4842e-01, 3.5030e-02, 1.0011e+05, 1.2836e-01,\n",
              "         9.5088e+03, 7.0192e-02, 1.6281e+08],\n",
              "        [1.7020e+02, 1.3521e+04, 3.1664e-03, 3.3687e+01, 3.6348e-04, 1.0869e+03,\n",
              "         1.1968e-08, 3.5933e-01, 1.3637e+02, 1.2208e+01, 1.2360e+03, 1.7353e-07,\n",
              "         2.4279e+03, 3.5592e+06, 3.7403e+01, 1.9754e+03, 6.0755e+00, 5.3791e-08,\n",
              "         1.6433e-02, 5.3071e+05, 1.5146e+00, 1.2937e+01, 2.7637e+05, 6.8501e+00,\n",
              "         3.7000e-02, 7.3338e-02, 4.8402e+07],\n",
              "        [1.0883e+02, 2.4617e+04, 1.3610e-02, 1.6035e+07, 7.4367e+00, 1.7419e+02,\n",
              "         4.8083e-05, 9.9807e-02, 2.9043e-01, 2.1986e-03, 1.7073e+01, 1.5150e-05,\n",
              "         2.3298e+00, 8.6449e+00, 6.1773e+00, 5.2999e+04, 2.2925e-02, 9.6396e-04,\n",
              "         1.2342e+02, 7.1743e+03, 4.8421e-02, 1.1472e+01, 2.4833e+06, 8.1707e-05,\n",
              "         2.0312e+02, 2.1766e-03, 3.3253e+06],\n",
              "        [4.6391e+02, 3.0993e+05, 3.5067e-04, 2.0480e+07, 9.6387e-01, 4.9094e+03,\n",
              "         3.1639e-07, 2.5961e-03, 3.2512e+02, 1.2783e+00, 2.4025e+02, 1.5993e-05,\n",
              "         1.4511e+04, 1.6250e+07, 1.4025e+03, 4.3804e+03, 1.8602e-04, 1.0867e-05,\n",
              "         2.9713e-02, 2.5237e+06, 1.4929e-01, 1.1411e+00, 7.1966e+05, 5.9514e-03,\n",
              "         4.0333e+00, 4.3557e-02, 9.5251e+08],\n",
              "        [5.2881e+05, 7.8111e-02, 4.2061e+00, 4.5210e+04, 1.0782e+01, 3.4907e+01,\n",
              "         3.8664e+01, 1.6167e+03, 1.9492e+01, 3.7290e-01, 1.0031e-03, 1.4580e-03,\n",
              "         2.1578e-03, 2.2131e+02, 6.1330e+06, 4.1868e+02, 6.2587e-05, 6.5370e-04,\n",
              "         3.0858e-03, 1.2033e+03, 7.6046e+02, 8.0669e-02, 3.5831e+02, 1.8674e+01,\n",
              "         4.7301e+08, 1.5402e-01, 3.4425e+01],\n",
              "        [1.2135e-02, 2.8189e+05, 3.8328e+03, 7.8970e+04, 4.8425e+00, 3.5003e-02,\n",
              "         2.0061e+03, 4.2442e-03, 9.7588e+02, 3.2508e+00, 1.6179e-03, 9.1970e+00,\n",
              "         5.9981e+01, 7.5479e+06, 3.3837e-02, 3.0718e+00, 6.7879e-10, 1.2657e-01,\n",
              "         4.6729e-04, 3.7928e+02, 3.3687e-04, 3.8551e-04, 1.1598e-01, 2.2284e+04,\n",
              "         1.6606e-03, 5.8207e+01, 1.6860e+02],\n",
              "        [4.4211e+02, 9.6057e+02, 7.4940e-01, 2.4854e+05, 1.8305e+02, 2.5450e-05,\n",
              "         4.0516e+00, 1.9080e+07, 2.9122e+03, 6.1366e+00, 1.4455e-02, 3.8109e-01,\n",
              "         8.5824e+02, 1.5592e+00, 2.9650e-02, 3.1592e+02, 1.1116e+02, 6.5672e-01,\n",
              "         9.9286e-02, 4.5900e+00, 1.7817e-02, 2.6589e-03, 1.3171e+00, 1.7894e-02,\n",
              "         2.3327e-05, 4.3596e-06, 7.9714e+01],\n",
              "        [1.3191e+01, 6.4898e+02, 2.1115e-02, 1.0585e+13, 7.8984e+01, 9.8111e+00,\n",
              "         2.0568e-01, 9.3651e+05, 3.3766e+01, 3.8291e-02, 1.3760e-03, 1.6050e-06,\n",
              "         7.0073e-01, 8.3641e+02, 2.6421e+06, 3.8583e+08, 2.0248e-03, 1.3930e-03,\n",
              "         7.6131e-03, 8.4376e+01, 6.9361e-01, 7.4473e-02, 1.0466e+01, 5.7801e+02,\n",
              "         3.0210e+07, 8.0169e-03, 8.2072e+04],\n",
              "        [6.7715e+00, 2.9013e-01, 2.6126e+00, 9.5746e+03, 9.3448e-03, 1.2908e+02,\n",
              "         6.0254e-04, 2.5894e+05, 5.6484e-01, 3.9197e+00, 6.2431e+05, 3.2923e-06,\n",
              "         1.1074e-01, 8.5120e+01, 7.5917e+01, 7.3598e+02, 4.1211e-01, 9.6473e-06,\n",
              "         5.2738e-04, 5.6346e+00, 1.2418e-03, 1.7813e-04, 5.0670e-01, 2.1457e+02,\n",
              "         3.6108e-01, 9.4905e-04, 9.0283e+03],\n",
              "        [6.8676e-01, 8.2671e-06, 1.2445e+05, 9.0739e+00, 3.8733e+00, 5.5337e-02,\n",
              "         1.1349e+06, 3.0984e+02, 3.3655e+01, 2.5050e+00, 4.8790e+00, 4.4456e+00,\n",
              "         8.4356e-06, 2.0737e-07, 1.4582e+02, 2.6849e+00, 3.0744e-03, 5.6451e+03,\n",
              "         1.0238e+00, 3.0227e-01, 3.5874e+01, 3.0210e-02, 4.6141e-03, 7.4335e-03,\n",
              "         9.1612e+08, 1.4465e-03, 1.6401e-01],\n",
              "        [5.8587e+00, 1.2401e-03, 3.5292e+07, 1.1087e+02, 1.7452e+02, 5.0149e-04,\n",
              "         1.7425e+06, 7.5105e+00, 8.4361e-01, 8.3433e-02, 5.6719e-03, 1.4654e+01,\n",
              "         1.3528e-04, 2.6154e-03, 1.7029e-01, 3.1054e-02, 7.0681e-08, 2.1704e+01,\n",
              "         4.5369e-03, 1.1551e-05, 8.0298e+01, 3.2046e-06, 4.2239e-07, 3.9194e+00,\n",
              "         5.7895e+03, 1.3831e+00, 6.3129e-07],\n",
              "        [3.8266e-04, 6.0973e+01, 8.3347e+06, 1.1335e+06, 7.2748e-01, 5.8397e-02,\n",
              "         7.3765e+04, 3.1172e-02, 3.1154e-04, 1.7095e+01, 8.8215e+00, 2.8429e+00,\n",
              "         8.1774e-02, 8.8386e-09, 1.8455e-03, 1.3213e-04, 9.8940e-05, 1.0851e+01,\n",
              "         4.7255e-03, 9.3506e-04, 2.2905e-07, 5.2850e-04, 5.3856e-07, 4.1613e+00,\n",
              "         9.7460e-05, 6.8708e-02, 1.4597e-01],\n",
              "        [4.6391e+02, 3.0993e+05, 3.5067e-04, 2.0480e+07, 9.6387e-01, 4.9094e+03,\n",
              "         3.1639e-07, 2.5961e-03, 3.2512e+02, 1.2783e+00, 2.4025e+02, 1.5993e-05,\n",
              "         1.4511e+04, 1.6250e+07, 1.4025e+03, 4.3804e+03, 1.8602e-04, 1.0867e-05,\n",
              "         2.9713e-02, 2.5237e+06, 1.4929e-01, 1.1411e+00, 7.1966e+05, 5.9514e-03,\n",
              "         4.0333e+00, 4.3557e-02, 9.5251e+08],\n",
              "        [1.3723e+02, 1.8519e+05, 6.3158e-04, 1.7192e+09, 8.8631e-01, 2.4037e+02,\n",
              "         1.7178e-02, 6.8848e-03, 4.9192e+04, 9.6206e-02, 2.8247e-03, 3.0700e-04,\n",
              "         1.2316e+04, 5.7584e+03, 3.5165e+02, 8.9018e+01, 7.6995e-09, 1.2684e-03,\n",
              "         1.1476e-02, 3.9721e+05, 1.0598e-03, 2.1501e-01, 8.1488e+04, 9.1746e-01,\n",
              "         9.7560e+02, 5.9545e-03, 5.4061e+09],\n",
              "        [3.8064e-02, 1.2894e+04, 5.6860e-04, 7.8411e+05, 1.0661e+00, 4.1031e-01,\n",
              "         4.2807e-06, 1.3452e+01, 1.4012e+02, 1.7539e+02, 2.3480e+01, 2.9407e-02,\n",
              "         3.4946e+05, 7.9845e+09, 3.4921e+01, 8.7473e+03, 1.7238e-04, 1.2500e-05,\n",
              "         5.3287e-04, 8.2937e+06, 6.7795e-01, 2.0529e-03, 6.8457e+02, 2.1570e-01,\n",
              "         1.2993e-03, 7.8326e-03, 1.9205e+08],\n",
              "        [2.5499e-01, 4.7968e+04, 1.2761e-03, 1.2885e+13, 5.7668e+00, 1.1878e+00,\n",
              "         3.9286e-01, 2.0317e+02, 3.8584e+00, 3.9481e-03, 6.0768e-03, 3.4577e-07,\n",
              "         1.1494e+03, 1.5901e+05, 3.5952e+04, 3.2226e+07, 1.5943e-03, 8.2335e-04,\n",
              "         3.4892e-05, 3.5034e+07, 1.6132e-01, 9.5692e-02, 1.9557e+05, 3.4703e+00,\n",
              "         7.7587e+01, 3.0087e-02, 1.6677e+07],\n",
              "        [3.4955e+02, 1.5727e+02, 8.9579e-01, 8.5587e+06, 1.7202e+01, 2.5062e+00,\n",
              "         4.0875e+00, 2.9587e+05, 1.3509e+01, 7.6366e-03, 3.8050e-01, 7.2857e-05,\n",
              "         4.1036e-01, 1.6424e+07, 2.2943e+06, 5.3223e+05, 2.6439e-05, 1.1358e-06,\n",
              "         2.9860e-02, 4.6010e+03, 1.3811e+01, 7.5541e-04, 5.3041e+01, 4.6816e+03,\n",
              "         1.3046e+05, 4.5665e-02, 6.3272e+03],\n",
              "        [1.3252e+04, 5.2844e-03, 1.6782e+03, 4.2384e+04, 6.4138e-01, 1.8436e-03,\n",
              "         3.4344e+03, 9.0787e+03, 1.3535e+05, 2.2526e-01, 7.0925e-06, 6.9937e-03,\n",
              "         1.3363e-03, 2.3331e+00, 4.8806e+06, 3.0097e+05, 6.2745e-07, 1.0627e-02,\n",
              "         1.0867e-01, 9.9388e-02, 5.4477e+03, 7.2540e-05, 2.6615e+00, 5.5851e+00,\n",
              "         2.4673e+05, 1.0637e-03, 1.9215e-01],\n",
              "        [2.9347e-02, 3.0078e+01, 1.1308e+05, 3.5986e+06, 2.2322e+00, 3.6962e-02,\n",
              "         5.5604e+02, 3.4914e+04, 1.2137e+02, 1.5652e+01, 3.5938e+02, 3.2810e-02,\n",
              "         2.4128e+02, 3.7176e+02, 2.6289e-02, 2.9393e+00, 1.2473e-02, 4.6360e-02,\n",
              "         1.9095e-02, 2.4224e-03, 4.0533e-04, 1.3721e-05, 3.5602e-04, 1.3226e+01,\n",
              "         9.2104e-05, 5.9835e-01, 2.3949e-03]])"
            ]
          },
          "metadata": {},
          "execution_count": 117
        }
      ],
      "source": [
        "counts"
      ]
    },
    {
      "cell_type": "code",
      "execution_count": null,
      "metadata": {
        "id": "4j7gkbx2NyjT"
      },
      "outputs": [],
      "source": [
        "prob = counts / counts.sum(1, keepdim= True)                    #normalise the counts as they have value above 1 by exponential graph"
      ]
    },
    {
      "cell_type": "code",
      "execution_count": null,
      "metadata": {
        "colab": {
          "base_uri": "https://localhost:8080/"
        },
        "id": "ty7LLqt5Ob6b",
        "outputId": "fe2d3fc0-aaa1-4d41-8fa3-841ac407b928"
      },
      "outputs": [
        {
          "output_type": "execute_result",
          "data": {
            "text/plain": [
              "torch.Size([32, 27])"
            ]
          },
          "metadata": {},
          "execution_count": 119
        }
      ],
      "source": [
        "counts.shape                        #shape of count is h @ W2 = [32, 100] @ [100, 27] = [32, 27]"
      ]
    },
    {
      "cell_type": "code",
      "execution_count": null,
      "metadata": {
        "colab": {
          "base_uri": "https://localhost:8080/"
        },
        "id": "-3ar7LVyN8Ql",
        "outputId": "906aa945-a7ab-4f19-9640-7e2ec952f5e3"
      },
      "outputs": [
        {
          "output_type": "execute_result",
          "data": {
            "text/plain": [
              "torch.Size([32, 27])"
            ]
          },
          "metadata": {},
          "execution_count": 120
        }
      ],
      "source": [
        "prob.shape                  #the shape of probabilty distrubution is h@W2 = [32, 100]@[100, 27] = [32, 27]"
      ]
    },
    {
      "cell_type": "code",
      "execution_count": null,
      "metadata": {
        "colab": {
          "base_uri": "https://localhost:8080/"
        },
        "id": "VuP7vPguN-Xo",
        "outputId": "3c2332f8-0df8-4f5a-ade5-39280d636206"
      },
      "outputs": [
        {
          "output_type": "execute_result",
          "data": {
            "text/plain": [
              "tensor(1.0000)"
            ]
          },
          "metadata": {},
          "execution_count": 121
        }
      ],
      "source": [
        "prob[0].sum()          #every row sums to 1, as the values are normalized"
      ]
    },
    {
      "cell_type": "code",
      "execution_count": null,
      "metadata": {
        "colab": {
          "base_uri": "https://localhost:8080/"
        },
        "id": "ksZSAriQSZIL",
        "outputId": "1c36df2e-6da1-479d-e2d6-38133cfc3710"
      },
      "outputs": [
        {
          "output_type": "execute_result",
          "data": {
            "text/plain": [
              "tensor([ 5, 13, 13,  1,  0, 15, 12,  9, 22,  9,  1,  0,  1, 22,  1,  0,  9, 19,\n",
              "         1,  2,  5, 12, 12,  1,  0, 19, 15, 16,  8,  9,  1,  0])"
            ]
          },
          "metadata": {},
          "execution_count": 122
        }
      ],
      "source": [
        "Y"
      ]
    },
    {
      "cell_type": "code",
      "execution_count": null,
      "metadata": {
        "colab": {
          "base_uri": "https://localhost:8080/"
        },
        "id": "023JPm9ISiNE",
        "outputId": "1a5eb370-307c-4218-9211-a780aa2299db"
      },
      "outputs": [
        {
          "output_type": "execute_result",
          "data": {
            "text/plain": [
              "tensor([ 0,  1,  2,  3,  4,  5,  6,  7,  8,  9, 10, 11, 12, 13, 14, 15, 16, 17,\n",
              "        18, 19, 20, 21, 22, 23, 24, 25, 26, 27, 28, 29, 30, 31])"
            ]
          },
          "metadata": {},
          "execution_count": 123
        }
      ],
      "source": [
        "torch.arange(32)"
      ]
    },
    {
      "cell_type": "code",
      "execution_count": null,
      "metadata": {
        "colab": {
          "base_uri": "https://localhost:8080/"
        },
        "id": "Jr7j55zLTHuN",
        "outputId": "3bdaab95-1820-4e2b-b501-15a8eca8a322"
      },
      "outputs": [
        {
          "output_type": "execute_result",
          "data": {
            "text/plain": [
              "tensor([4.9449e-06, 6.5315e-03, 1.8921e-06, 1.2517e-03, 1.1383e-02, 4.4121e-06,\n",
              "        1.0893e-05, 2.7497e-12, 3.3860e-10, 3.7416e-07, 2.0088e-09, 9.9379e-10,\n",
              "        3.1217e-04, 5.6732e-04, 2.5613e-04, 4.9630e-06, 1.2875e-09, 2.5082e-06,\n",
              "        3.5509e-02, 3.8760e-08, 9.2687e-13, 1.2262e-07, 9.1952e-15, 3.3481e-11,\n",
              "        4.0103e-11, 2.5419e-03, 1.2492e-08, 2.1058e-14, 2.9945e-13, 2.7031e-10,\n",
              "        9.3713e-10, 7.8295e-09])"
            ]
          },
          "metadata": {},
          "execution_count": 124
        }
      ],
      "source": [
        "l = prob[torch.arange(32), Y]     #values are distrubuted randomly, which results in high loss\n",
        "l"
      ]
    },
    {
      "cell_type": "code",
      "execution_count": null,
      "metadata": {
        "colab": {
          "base_uri": "https://localhost:8080/"
        },
        "id": "ZJ3Kb8zaToBv",
        "outputId": "1a8b17ba-2522-44dc-f782-90ffe3cef28d"
      },
      "outputs": [
        {
          "output_type": "execute_result",
          "data": {
            "text/plain": [
              "tensor(16.5347)"
            ]
          },
          "metadata": {},
          "execution_count": 125
        }
      ],
      "source": [
        "loss = -l.log().mean()\n",
        "loss                       #the loss function is 18, which shows that model is very badly predicting."
      ]
    },
    {
      "cell_type": "code",
      "execution_count": null,
      "metadata": {
        "id": "clWznMGDWDsb"
      },
      "outputs": [],
      "source": [
        "## the F.cross_entropy() is used to save memory, not to create the intermidiate values(eg: logits, counts etc..)\n",
        "## torch librabry directly provides the probabilty. so it saves space and memory.\n",
        "# if we use exp function, and we have logits value which is very positive then the output probability distrubution goes to infinity.\n",
        "# also F.cross_entropy() is much more efficent in forward and backward pass"
      ]
    },
    {
      "cell_type": "code",
      "execution_count": null,
      "metadata": {
        "id": "Jn4Nl18uU3CR"
      },
      "outputs": [],
      "source": [
        "#optimization version>>"
      ]
    },
    {
      "cell_type": "code",
      "execution_count": null,
      "metadata": {
        "colab": {
          "base_uri": "https://localhost:8080/"
        },
        "id": "CY8urXvu8Ww0",
        "outputId": "6bc5dc6a-6ea1-44ed-ac7a-5c9cf410e707"
      },
      "outputs": [
        {
          "output_type": "stream",
          "name": "stdout",
          "text": [
            "torch.Size([182625, 3]) torch.Size([182625])\n",
            "torch.Size([22655, 3]) torch.Size([22655])\n",
            "torch.Size([22866, 3]) torch.Size([22866])\n"
          ]
        }
      ],
      "source": [
        "# build the dataset\n",
        "block_size = 3 # context length: how many characters do we take to predict the next one?\n",
        "\n",
        "def build_dataset(words):\n",
        "  X, Y = [], []\n",
        "  for w in words:\n",
        "\n",
        "    #print(w)\n",
        "    context = [0] * block_size\n",
        "    for ch in w + '.':\n",
        "      ix = stoi[ch]\n",
        "      X.append(context)\n",
        "      Y.append(ix)\n",
        "      #print(''.join(itos[i] for i in context), '--->', itos[ix])\n",
        "      context = context[1:] + [ix] # crop and append\n",
        "\n",
        "  X = torch.tensor(X)\n",
        "  Y = torch.tensor(Y)\n",
        "  print(X.shape, Y.shape)\n",
        "  return X, Y\n",
        "\n",
        "import random\n",
        "random.seed(42)\n",
        "random.shuffle(words)\n",
        "n1 = int(0.8*len(words))\n",
        "n2 = int(0.9*len(words))\n",
        "\n",
        "Xtr, Ytr = build_dataset(words[:n1])\n",
        "Xdev, Ydev = build_dataset(words[n1:n2])\n",
        "Xte, Yte = build_dataset(words[n2:])"
      ]
    },
    {
      "cell_type": "code",
      "execution_count": null,
      "metadata": {
        "colab": {
          "base_uri": "https://localhost:8080/"
        },
        "id": "Q3pLCyytVBz2",
        "outputId": "906bedc9-711a-4577-8b75-9dc450dacfc6"
      },
      "outputs": [
        {
          "output_type": "execute_result",
          "data": {
            "text/plain": [
              "(torch.Size([182625, 3]), torch.Size([182625]))"
            ]
          },
          "metadata": {},
          "execution_count": 129
        }
      ],
      "source": [
        "Xtr.shape, Ytr.shape # dataset"
      ]
    },
    {
      "cell_type": "code",
      "execution_count": null,
      "metadata": {
        "id": "JADs3hj4VE2Y"
      },
      "outputs": [],
      "source": [
        "g = torch.Generator().manual_seed(2147483647) # for reproducibility\n",
        "C = torch.randn((27, 10), generator=g)\n",
        "W1 = torch.randn((30, 200), generator=g)\n",
        "b1 = torch.randn(200, generator=g)\n",
        "W2 = torch.randn((200, 27), generator=g)\n",
        "b2 = torch.randn(27, generator=g)\n",
        "parameters = [C, W1, b1, W2, b2]"
      ]
    },
    {
      "cell_type": "code",
      "execution_count": null,
      "metadata": {
        "colab": {
          "base_uri": "https://localhost:8080/"
        },
        "id": "6YlrWHCXVJHK",
        "outputId": "73c6544a-430f-48f3-fa8b-1309946d9eaa"
      },
      "outputs": [
        {
          "output_type": "execute_result",
          "data": {
            "text/plain": [
              "11897"
            ]
          },
          "metadata": {},
          "execution_count": 131
        }
      ],
      "source": [
        "sum(p.nelement() for p in parameters) # number of parameters in total"
      ]
    },
    {
      "cell_type": "code",
      "execution_count": null,
      "metadata": {
        "id": "SQyjxce4VMh2"
      },
      "outputs": [],
      "source": [
        "for p in parameters:\n",
        "  p.requires_grad = True"
      ]
    },
    {
      "cell_type": "code",
      "execution_count": null,
      "metadata": {
        "id": "BC4924prVPoe"
      },
      "outputs": [],
      "source": [
        "lre = torch.linspace(-3, 0, 1000)\n",
        "lrs = 10**lre"
      ]
    },
    {
      "cell_type": "code",
      "execution_count": null,
      "metadata": {
        "id": "_9DE2u3dVS79"
      },
      "outputs": [],
      "source": [
        "lri = []\n",
        "lossi = []\n",
        "stepi = []"
      ]
    },
    {
      "cell_type": "code",
      "execution_count": null,
      "metadata": {
        "colab": {
          "base_uri": "https://localhost:8080/"
        },
        "id": "0PPVh8qlVX8i",
        "outputId": "c4cd407d-c302-4321-fecd-49da91f73a99"
      },
      "outputs": [
        {
          "output_type": "stream",
          "name": "stdout",
          "text": [
            "2.1367247104644775\n"
          ]
        }
      ],
      "source": [
        "for i in range(200000):\n",
        "\n",
        "  # minibatch construct\n",
        "  ix = torch.randint(0, Xtr.shape[0], (32,))\n",
        "\n",
        "  # forward pass\n",
        "  emb = C[Xtr[ix]] # (32, 3, 10)\n",
        "  h = torch.tanh(emb.view(-1, 30) @ W1 + b1) # (32, 200)\n",
        "  logits = h @ W2 + b2 # (32, 27)\n",
        "  loss = F.cross_entropy(logits, Ytr[ix])\n",
        "  #print(loss.item())\n",
        "\n",
        "  # backward pass\n",
        "  for p in parameters:\n",
        "    p.grad = None\n",
        "  loss.backward()\n",
        "\n",
        "  # update\n",
        "  #lr = lrs[i]\n",
        "  lr = 0.1 if i < 100000 else 0.01\n",
        "  for p in parameters:\n",
        "    p.data += -lr * p.grad\n",
        "\n",
        "  # track stats\n",
        "  #lri.append(lre[i])\n",
        "  stepi.append(i)\n",
        "  lossi.append(loss.log10().item())\n",
        "\n",
        "print(loss.item())"
      ]
    },
    {
      "cell_type": "code",
      "execution_count": null,
      "metadata": {
        "colab": {
          "base_uri": "https://localhost:8080/",
          "height": 447
        },
        "id": "bMZ2-EblVjSb",
        "outputId": "554c5443-6fac-409c-89ec-07f79db125a4"
      },
      "outputs": [
        {
          "output_type": "execute_result",
          "data": {
            "text/plain": [
              "[<matplotlib.lines.Line2D at 0x7f2d53066510>]"
            ]
          },
          "metadata": {},
          "execution_count": 153
        },
        {
          "output_type": "display_data",
          "data": {
            "text/plain": [
              "<Figure size 640x480 with 1 Axes>"
            ],
            "image/png": "[encoded data removed]"
          },
          "metadata": {}
        }
      ],
      "source": [
        "plt.plot(stepi, lossi)"
      ]
    },
    {
      "cell_type": "code",
      "execution_count": null,
      "metadata": {
        "colab": {
          "base_uri": "https://localhost:8080/"
        },
        "id": "IKnGnM5BUt83",
        "outputId": "38d0b389-b102-4a62-bc66-f2903b26faf0"
      },
      "outputs": [
        {
          "output_type": "execute_result",
          "data": {
            "text/plain": [
              "tensor(2.0443, grad_fn=<NllLossBackward0>)"
            ]
          },
          "metadata": {},
          "execution_count": 154
        }
      ],
      "source": [
        "emb = C[Xtr] # (32, 3, 2)\n",
        "h = torch.tanh(emb.view(-1, 30) @ W1 + b1) # (32, 100)\n",
        "logits = h @ W2 + b2 # (32, 27)                  #training set\n",
        "loss = F.cross_entropy(logits, Ytr)\n",
        "loss"
      ]
    },
    {
      "cell_type": "code",
      "source": [
        "emb = C[Xdev] # (32, 3, 2)\n",
        "h = torch.tanh(emb.view(-1, 30) @ W1 + b1) # (32, 100)            #developed test\n",
        "logits = h @ W2 + b2 # (32, 27)\n",
        "loss = F.cross_entropy(logits, Ydev)\n",
        "loss"
      ],
      "metadata": {
        "colab": {
          "base_uri": "https://localhost:8080/"
        },
        "id": "kHtuuwSxH4hE",
        "outputId": "d060fa4c-f799-4beb-fa22-6c2ae64ed17a"
      },
      "execution_count": null,
      "outputs": [
        {
          "output_type": "execute_result",
          "data": {
            "text/plain": [
              "tensor(2.1207, grad_fn=<NllLossBackward0>)"
            ]
          },
          "metadata": {},
          "execution_count": 155
        }
      ]
    },
    {
      "cell_type": "code",
      "source": [
        "# visualize dimensions 0 and 1 of the embedding matrix C for all characters\n",
        "plt.figure(figsize=(8,8))\n",
        "plt.scatter(C[:,0].data, C[:,1].data, s=200)\n",
        "for i in range(C.shape[0]):\n",
        "    plt.text(C[i,0].item(), C[i,1].item(), itos[i], ha=\"center\", va=\"center\", color='white')\n",
        "plt.grid('minor')"
      ],
      "metadata": {
        "colab": {
          "base_uri": "https://localhost:8080/",
          "height": 676
        },
        "id": "76rjEOuiJr4x",
        "outputId": "13fda48c-628b-4d82-cdb1-447b20e33e64"
      },
      "execution_count": null,
      "outputs": [
        {
          "output_type": "display_data",
          "data": {
            "text/plain": [
              "<Figure size 800x800 with 1 Axes>"
            ],
            "image/png": "[encoded data removed]"
          },
          "metadata": {}
        }
      ]
    },
    {
      "cell_type": "code",
      "source": [
        "# training split, dev/validation split, test split\n",
        "# 80%, 10%, 10%"
      ],
      "metadata": {
        "id": "KIcRJkjALme0"
      },
      "execution_count": null,
      "outputs": []
    },
    {
      "cell_type": "code",
      "source": [
        "context = [0] * block_size\n",
        "C[torch.tensor([context])].shape"
      ],
      "metadata": {
        "colab": {
          "base_uri": "https://localhost:8080/"
        },
        "id": "ytJ-qgs9LpXe",
        "outputId": "fe448daa-4f4c-44ab-d208-287957e9250f"
      },
      "execution_count": null,
      "outputs": [
        {
          "output_type": "execute_result",
          "data": {
            "text/plain": [
              "torch.Size([1, 3, 10])"
            ]
          },
          "metadata": {},
          "execution_count": 158
        }
      ]
    },
    {
      "cell_type": "code",
      "source": [
        "# sample from the model\n",
        "g = torch.Generator().manual_seed(2147483647 + 10)\n",
        "\n",
        "for _ in range(20):\n",
        "\n",
        "    out = []\n",
        "    context = [0] * block_size # initialize with all ...\n",
        "    while True:\n",
        "      emb = C[torch.tensor([context])] # (1,block_size,d)\n",
        "      h = torch.tanh(emb.view(1, -1) @ W1 + b1)\n",
        "      logits = h @ W2 + b2\n",
        "      probs = F.softmax(logits, dim=1)\n",
        "      ix = torch.multinomial(probs, num_samples=1, generator=g).item()\n",
        "      context = context[1:] + [ix]\n",
        "      out.append(ix)\n",
        "      if ix == 0:\n",
        "        break\n",
        "\n",
        "    print(''.join(itos[i] for i in out))"
      ],
      "metadata": {
        "colab": {
          "base_uri": "https://localhost:8080/"
        },
        "id": "WiO84I4sMJXr",
        "outputId": "8a9ca35f-497a-4dcd-e8cb-ac3bdb7ab691"
      },
      "execution_count": null,
      "outputs": [
        {
          "output_type": "stream",
          "name": "stdout",
          "text": [
            "montaymyah.\n",
            "seen.\n",
            "ndhriah.\n",
            "reisha.\n",
            "endraeg.\n",
            "adee.\n",
            "daelin.\n",
            "shi.\n",
            "jen.\n",
            "eden.\n",
            "van.\n",
            "aar.\n",
            "elle.\n",
            "malka.\n",
            "cayshabergiad.\n",
            "jest.\n",
            "jair.\n",
            "jeniquetzaley.\n",
            "brence.\n",
            "ryyah.\n"
          ]
        }
      ]
    },
    {
      "cell_type": "code",
      "source": [],
      "metadata": {
        "id": "UKaN98zTMNe8"
      },
      "execution_count": null,
      "outputs": []
    }
  ],
  "metadata": {
    "colab": {
      "provenance": [],
      "authorship_tag": "ABX9TyNSURJWo0+B49tLlLBNS5d2",
      "include_colab_link": true
    },
    "kernelspec": {
      "display_name": "Python 3",
      "name": "python3"
    },
    "language_info": {
      "name": "python"
    }
  },
  "nbformat": 4,
  "nbformat_minor": 0
}